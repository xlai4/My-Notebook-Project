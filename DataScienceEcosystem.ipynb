{
 "cells": [
  {
   "cell_type": "markdown",
   "id": "87d017e3-61ac-4d80-8077-66fdb59927c9",
   "metadata": {},
   "source": [
    "# H1: Data Science Tools and Ecosystem."
   ]
  },
  {
   "cell_type": "markdown",
   "id": "9ae406da-368c-43f1-ac3d-fa84bf19da33",
   "metadata": {},
   "source": [
    "### **In this notebook, Data Science Tools and Ecosystem are summarized.**"
   ]
  },
  {
   "cell_type": "markdown",
   "id": "7543dcdf-e8ec-4ce6-acbb-d60485b3c35c",
   "metadata": {},
   "source": [
    "#### Some of the popular languages that Data Scientists use are:\n",
    "1. Modeling\n",
    "2. Data Preparation\n",
    "3. Data Understanding"
   ]
  },
  {
   "cell_type": "markdown",
   "id": "1d708d5e-6b92-4659-8529-d51b30acf565",
   "metadata": {},
   "source": [
    "##### Some of the commonly used libraries used by Data Scientists include:\n",
    "1. Pandas\n",
    "2. Dask\n",
    "3. NumPy"
   ]
  },
  {
   "cell_type": "markdown",
   "id": "06c1c4f3-0184-42fd-8fa2-ab0e89c99b18",
   "metadata": {},
   "source": [
    "| Data Science Tools|\n",
    "| ------------------|\n",
    "| Jupyter Notebook  |\n",
    "| Apache Spark      |\n",
    "| TensorFlow        |"
   ]
  },
  {
   "cell_type": "markdown",
   "id": "267eee2a-0c63-4309-9ba0-2552266bca04",
   "metadata": {},
   "source": [
    "### H3:Below are a few examples of evaluating arithmetic expressions in Python:\n",
    "1. addition, 1 + 1\n",
    "2. subtraction, 3 - 2"
   ]
  },
  {
   "cell_type": "code",
   "execution_count": 3,
   "id": "2eb4c02d-ffe4-4b02-8f6c-01a46e799dc5",
   "metadata": {},
   "outputs": [
    {
     "data": {
      "text/plain": [
       "17"
      ]
     },
     "execution_count": 3,
     "metadata": {},
     "output_type": "execute_result"
    }
   ],
   "source": [
    "#This a simple arithmetic expression to mutiply then add integers.\n",
    "(3*4)+5"
   ]
  },
  {
   "cell_type": "code",
   "execution_count": 4,
   "id": "658c2e7e-94b9-49f4-9473-56fdc7594803",
   "metadata": {},
   "outputs": [
    {
     "data": {
      "text/plain": [
       "3.3333333333333335"
      ]
     },
     "execution_count": 4,
     "metadata": {},
     "output_type": "execute_result"
    }
   ],
   "source": [
    "# This will convert 200 minutes to hours by diving by 60\n",
    "200/60"
   ]
  },
  {
   "cell_type": "markdown",
   "id": "2bd03891-58f2-4f28-8e57-a64965491b23",
   "metadata": {},
   "source": [
    "**Objectives:**\n",
    "- List popular languages for Data Science\n",
    "- List commonly libraries by Data Science\n",
    "- List Data Science tools"
   ]
  },
  {
   "cell_type": "markdown",
   "id": "6a26eb7e-d9e9-464b-99b1-cd87f7fc4186",
   "metadata": {},
   "source": [
    "## H2:Lakshmi Holla\n",
    "Xiurong Lai"
   ]
  },
  {
   "cell_type": "code",
   "execution_count": null,
   "id": "b3181094-e6d8-4d50-a9e0-78aaa276d154",
   "metadata": {},
   "outputs": [],
   "source": []
  }
 ],
 "metadata": {
  "kernelspec": {
   "display_name": "Python 3 (ipykernel)",
   "language": "python",
   "name": "python3"
  },
  "language_info": {
   "codemirror_mode": {
    "name": "ipython",
    "version": 3
   },
   "file_extension": ".py",
   "mimetype": "text/x-python",
   "name": "python",
   "nbconvert_exporter": "python",
   "pygments_lexer": "ipython3",
   "version": "3.11.9"
  }
 },
 "nbformat": 4,
 "nbformat_minor": 5
}
